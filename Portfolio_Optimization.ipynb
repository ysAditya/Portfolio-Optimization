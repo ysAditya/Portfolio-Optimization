{
  "cells": [
    {
      "cell_type": "markdown",
      "metadata": {
        "id": "HDKY-nzrS48Q"
      },
      "source": [
        "# Reinforcement Learning for Portfolio Allocation for Banking Sector Stocks\n"
      ]
    },
    {
      "cell_type": "markdown",
      "metadata": {
        "id": "yHVZ7uYOS48U"
      },
      "source": [
        "In the reinforcement learning based framework defined for this problem,  the algorithm determines the optimal portfolio allocation depending upon the current state of the portfolio of instruments. \n",
        "\n",
        "The algorithm is trained using Deep QLearning framework and the components of the reinforcement learning environment are:\n",
        "\n",
        "* Agent: Portfolio manager, robo advisor or an individual.\n",
        "* Action: Assignment and rebalancing the portfolio weights. The DQN model provides the Q-values which is further converted into portfolio weights.\n",
        "\n",
        "* Reward function: Sharpe ratio, which consists of the standard deviation as the risk assessment measure is used reward function. \n",
        "\n",
        "* State: The state is the correlation matrix of the instruments based on a specific time window. The correlation matrix is a suitable state variable for the portfolio allocation, as it contains the information about the relationships between different instruments and can be useful in performing portfolio allocation.\n",
        "\n",
        "* Environment: Cryptocurrency exchange.\n",
        "\n",
        "\n",
        "The data of cryptocurrencies that we will be using for this case study is obtained from\n",
        "the Kaggle platform and contains the daily prices of the cryptocurrencies during the\n",
        "period of 2018. The data contains some of the most liquid cryptocurrencies such as\n",
        "Bitcoin, Ethereum, Ripple, Litecoin and Dash."
      ]
    },
    {
      "cell_type": "code",
      "execution_count": null,
      "metadata": {
        "id": "RHaKHrYrw1qk",
        "outputId": "9ce0f787-b84e-4646-873b-af99a74e24a8"
      },
      "outputs": [
        {
          "name": "stdout",
          "output_type": "stream",
          "text": [
            "Python 3.9.16\n"
          ]
        }
      ],
      "source": [
        "!python --version"
      ]
    },
    {
      "cell_type": "code",
      "execution_count": null,
      "metadata": {
        "id": "1e_XwxYkw1ql"
      },
      "outputs": [],
      "source": [
        "#pip install pandas"
      ]
    },
    {
      "cell_type": "code",
      "execution_count": null,
      "metadata": {
        "id": "wB-qxky3w1qm"
      },
      "outputs": [],
      "source": [
        "#pip install matplotlib"
      ]
    },
    {
      "cell_type": "code",
      "execution_count": null,
      "metadata": {
        "id": "3epeofzzw1qm"
      },
      "outputs": [],
      "source": [
        "#pip install seaborn"
      ]
    },
    {
      "cell_type": "code",
      "execution_count": null,
      "metadata": {
        "id": "gHDoVjYdw1qm"
      },
      "outputs": [],
      "source": [
        "#pip install sklearn"
      ]
    },
    {
      "cell_type": "code",
      "execution_count": null,
      "metadata": {
        "id": "gVrI1ly9w1qm"
      },
      "outputs": [],
      "source": [
        "#pip install numpy scipy scikit-learn"
      ]
    },
    {
      "cell_type": "code",
      "execution_count": null,
      "metadata": {
        "id": "IB0Rj-SVw1qm"
      },
      "outputs": [],
      "source": [
        "#conda install openpyxl"
      ]
    },
    {
      "cell_type": "code",
      "execution_count": null,
      "metadata": {
        "id": "Ib4625Esw1qn"
      },
      "outputs": [],
      "source": [
        "#conda install statsmodels"
      ]
    },
    {
      "cell_type": "code",
      "execution_count": null,
      "metadata": {
        "id": "Lr6ySoOyw1qn"
      },
      "outputs": [],
      "source": [
        "#conda install numba"
      ]
    },
    {
      "cell_type": "code",
      "execution_count": null,
      "metadata": {
        "id": "vQZkQyZXS48V"
      },
      "outputs": [],
      "source": [
        "# Load libraries\n",
        "import numpy as np\n",
        "import pandas as pd\n",
        "import matplotlib.pyplot as plt\n",
        "from pandas import read_csv, set_option\n",
        "from pandas.plotting import scatter_matrix\n",
        "import seaborn as sns\n",
        "from sklearn.preprocessing import StandardScaler\n",
        "import datetime\n",
        "import math\n",
        "import time\n",
        "from numpy.random import choice\n",
        "import random\n",
        "\n",
        "from keras.layers import Input, Dense, Flatten, Dropout\n",
        "from keras.models import Model\n",
        "from keras.regularizers import l2\n",
        "\n",
        "import numpy as np\n",
        "import pandas as pd\n",
        "\n",
        "import random\n",
        "from collections import deque\n",
        "import matplotlib.pylab as plt\n",
        "\n",
        "import tensorflow as tf"
      ]
    },
    {
      "cell_type": "code",
      "execution_count": null,
      "metadata": {
        "id": "19lZUPZBS48X"
      },
      "outputs": [],
      "source": [
        "#Diable the warnings\n",
        "import warnings\n",
        "warnings.filterwarnings('ignore')"
      ]
    },
    {
      "cell_type": "code",
      "execution_count": null,
      "metadata": {
        "id": "f5rM2nb9S48Y"
      },
      "outputs": [],
      "source": [
        "\n",
        "#The data already obtained from yahoo finance is imported.\n",
        "dataset = pd.read_excel('train_data_17_18.xlsx')"
      ]
    },
    {
      "cell_type": "code",
      "execution_count": null,
      "metadata": {
        "colab": {
          "base_uri": "https://localhost:8080/"
        },
        "id": "rhskvnGXS48Y",
        "outputId": "de4eb242-9e6d-45c8-d5aa-40e2b928a1c0"
      },
      "outputs": [
        {
          "data": {
            "text/plain": [
              "(439, 11)"
            ]
          },
          "execution_count": 13,
          "metadata": {},
          "output_type": "execute_result"
        }
      ],
      "source": [
        "# shape\n",
        "dataset.shape"
      ]
    },
    {
      "cell_type": "code",
      "execution_count": null,
      "metadata": {
        "id": "XU3X892BX3nG"
      },
      "outputs": [],
      "source": [
        "#dataset.rename(columns = {'Unnamed: 0':'Date'}, inplace = True)"
      ]
    },
    {
      "cell_type": "code",
      "execution_count": null,
      "metadata": {
        "colab": {
          "base_uri": "https://localhost:8080/",
          "height": 337
        },
        "id": "nzbq-sDNS48Z",
        "outputId": "31d39e66-8d70-4f66-f6c6-01140077a8fd"
      },
      "outputs": [
        {
          "data": {
            "text/html": [
              "<div>\n",
              "<style scoped>\n",
              "    .dataframe tbody tr th:only-of-type {\n",
              "        vertical-align: middle;\n",
              "    }\n",
              "\n",
              "    .dataframe tbody tr th {\n",
              "        vertical-align: top;\n",
              "    }\n",
              "\n",
              "    .dataframe thead th {\n",
              "        text-align: right;\n",
              "    }\n",
              "</style>\n",
              "<table border=\"1\" class=\"dataframe\">\n",
              "  <thead>\n",
              "    <tr style=\"text-align: right;\">\n",
              "      <th></th>\n",
              "      <th>Date</th>\n",
              "      <th>HDFCBANK.NS</th>\n",
              "      <th>ICICIBANK.NS</th>\n",
              "      <th>HDFC.NS</th>\n",
              "      <th>KOTAKBANK.NS</th>\n",
              "      <th>AXISBANK.NS</th>\n",
              "      <th>SBIN.NS</th>\n",
              "      <th>BAJFINANCE.NS</th>\n",
              "      <th>BAJAJFINSV.NS</th>\n",
              "      <th>SBILIFE.NS</th>\n",
              "      <th>HDFCLIFE.NS</th>\n",
              "    </tr>\n",
              "  </thead>\n",
              "  <tbody>\n",
              "    <tr>\n",
              "      <th>0</th>\n",
              "      <td>2017-11-17</td>\n",
              "      <td>912.775024</td>\n",
              "      <td>325.100006</td>\n",
              "      <td>1705.500000</td>\n",
              "      <td>1023.200012</td>\n",
              "      <td>542.400024</td>\n",
              "      <td>337.500000</td>\n",
              "      <td>1787.349976</td>\n",
              "      <td>512.974976</td>\n",
              "      <td>659.549988</td>\n",
              "      <td>344.600006</td>\n",
              "    </tr>\n",
              "    <tr>\n",
              "      <th>1</th>\n",
              "      <td>2017-11-20</td>\n",
              "      <td>919.075012</td>\n",
              "      <td>318.549988</td>\n",
              "      <td>1689.199951</td>\n",
              "      <td>1040.550049</td>\n",
              "      <td>545.150024</td>\n",
              "      <td>333.000000</td>\n",
              "      <td>1805.250000</td>\n",
              "      <td>517.354980</td>\n",
              "      <td>661.450012</td>\n",
              "      <td>355.350006</td>\n",
              "    </tr>\n",
              "    <tr>\n",
              "      <th>2</th>\n",
              "      <td>2017-11-21</td>\n",
              "      <td>923.125000</td>\n",
              "      <td>319.899994</td>\n",
              "      <td>1694.500000</td>\n",
              "      <td>1029.849976</td>\n",
              "      <td>546.799988</td>\n",
              "      <td>330.649994</td>\n",
              "      <td>1809.750000</td>\n",
              "      <td>520.619995</td>\n",
              "      <td>687.450012</td>\n",
              "      <td>385.299988</td>\n",
              "    </tr>\n",
              "    <tr>\n",
              "      <th>3</th>\n",
              "      <td>2017-11-22</td>\n",
              "      <td>927.625000</td>\n",
              "      <td>318.899994</td>\n",
              "      <td>1718.150024</td>\n",
              "      <td>1026.250000</td>\n",
              "      <td>540.500000</td>\n",
              "      <td>335.299988</td>\n",
              "      <td>1773.949951</td>\n",
              "      <td>517.635010</td>\n",
              "      <td>693.150024</td>\n",
              "      <td>395.200012</td>\n",
              "    </tr>\n",
              "    <tr>\n",
              "      <th>4</th>\n",
              "      <td>2017-11-23</td>\n",
              "      <td>921.424988</td>\n",
              "      <td>319.450012</td>\n",
              "      <td>1704.599976</td>\n",
              "      <td>1022.099976</td>\n",
              "      <td>544.150024</td>\n",
              "      <td>334.950012</td>\n",
              "      <td>1763.650024</td>\n",
              "      <td>513.359985</td>\n",
              "      <td>666.299988</td>\n",
              "      <td>374.850006</td>\n",
              "    </tr>\n",
              "  </tbody>\n",
              "</table>\n",
              "</div>"
            ],
            "text/plain": [
              "        Date  HDFCBANK.NS  ICICIBANK.NS      HDFC.NS  KOTAKBANK.NS  AXISBANK.NS     SBIN.NS  \\\n",
              "0 2017-11-17   912.775024    325.100006  1705.500000   1023.200012   542.400024  337.500000   \n",
              "1 2017-11-20   919.075012    318.549988  1689.199951   1040.550049   545.150024  333.000000   \n",
              "2 2017-11-21   923.125000    319.899994  1694.500000   1029.849976   546.799988  330.649994   \n",
              "3 2017-11-22   927.625000    318.899994  1718.150024   1026.250000   540.500000  335.299988   \n",
              "4 2017-11-23   921.424988    319.450012  1704.599976   1022.099976   544.150024  334.950012   \n",
              "\n",
              "   BAJFINANCE.NS  BAJAJFINSV.NS  SBILIFE.NS  HDFCLIFE.NS  \n",
              "0    1787.349976     512.974976  659.549988   344.600006  \n",
              "1    1805.250000     517.354980  661.450012   355.350006  \n",
              "2    1809.750000     520.619995  687.450012   385.299988  \n",
              "3    1773.949951     517.635010  693.150024   395.200012  \n",
              "4    1763.650024     513.359985  666.299988   374.850006  "
            ]
          },
          "execution_count": 15,
          "metadata": {},
          "output_type": "execute_result"
        }
      ],
      "source": [
        "# peek at data\n",
        "set_option('display.width', 100)\n",
        "dataset.head(5)"
      ]
    },
    {
      "cell_type": "code",
      "execution_count": null,
      "metadata": {
        "colab": {
          "base_uri": "https://localhost:8080/"
        },
        "id": "opRyqwaqAgzs",
        "outputId": "5b08f25b-f5dd-4599-cfdc-d1a6f3b41c16"
      },
      "outputs": [
        {
          "data": {
            "text/plain": [
              "Index(['Date', 'HDFCBANK.NS', 'ICICIBANK.NS', 'HDFC.NS', 'KOTAKBANK.NS', 'AXISBANK.NS', 'SBIN.NS',\n",
              "       'BAJFINANCE.NS', 'BAJAJFINSV.NS', 'SBILIFE.NS', 'HDFCLIFE.NS'],\n",
              "      dtype='object')"
            ]
          },
          "execution_count": 16,
          "metadata": {},
          "output_type": "execute_result"
        }
      ],
      "source": [
        "dataset.columns"
      ]
    },
    {
      "cell_type": "code",
      "execution_count": null,
      "metadata": {
        "colab": {
          "base_uri": "https://localhost:8080/"
        },
        "id": "Tg2TRJ3_XDTE",
        "outputId": "4e5dfd59-aaf9-423a-d3c4-0daf04b125a6"
      },
      "outputs": [
        {
          "data": {
            "text/plain": [
              "Date             0\n",
              "HDFCBANK.NS      0\n",
              "ICICIBANK.NS     0\n",
              "HDFC.NS          0\n",
              "KOTAKBANK.NS     0\n",
              "AXISBANK.NS      0\n",
              "SBIN.NS          0\n",
              "BAJFINANCE.NS    0\n",
              "BAJAJFINSV.NS    0\n",
              "SBILIFE.NS       0\n",
              "HDFCLIFE.NS      0\n",
              "dtype: int64"
            ]
          },
          "execution_count": 17,
          "metadata": {},
          "output_type": "execute_result"
        }
      ],
      "source": [
        "dataset.isna().sum()"
      ]
    },
    {
      "cell_type": "markdown",
      "metadata": {
        "id": "cA9Mi6svS48a"
      },
      "source": [
        "We will look at the following Scripts :\n",
        "\n",
        "1. Creating Environment \n",
        "2. Helper Functions\n",
        "3. Training Agents\n"
      ]
    },
    {
      "cell_type": "markdown",
      "metadata": {
        "id": "9IekvElkS48a"
      },
      "source": [
        "<a id='4.1'></a>\n",
        "## Cryptocurrency environment\n",
        "\n",
        "We introduce a simulation environment class “CryptoEnvironment”, where\n",
        "we create a working environment for cryptocurrencies. This class has following key\n",
        "functions:\n",
        "\n",
        "* Function “getState: This function returns the state, which is the correlation matrix of\n",
        "the instruments based on a lookback period. The function also returns the historical\n",
        "return or raw historical data as the state depending on is_cov_matrix or\n",
        "is_raw_time_series flag.\n",
        "* Function “getReward: This function returns the reward, which is sharp ratio of the\n",
        "portfolio, given the portfolio weight and lookback period."
      ]
    },
    {
      "cell_type": "code",
      "execution_count": null,
      "metadata": {
        "id": "G_MZQGG5S48b"
      },
      "outputs": [],
      "source": [
        "import numpy as np\n",
        "import pandas as pd\n",
        "\n",
        "from IPython.core.debugger import set_trace\n",
        "\n",
        "#define a function portfolio\n",
        "def portfolio(returns, weights):\n",
        "    weights = np.array(weights)\n",
        "    rets = returns.mean() * 252\n",
        "    covs = returns.cov() * 252\n",
        "    P_ret = np.sum(rets * weights)\n",
        "    P_vol = np.sqrt(np.dot(weights.T, np.dot(covs, weights)))\n",
        "    P_sharpe = P_ret / P_vol\n",
        "    return np.array([P_ret, P_vol, P_sharpe])\n",
        "\n",
        "\n",
        "class CryptoEnvironment:\n",
        "    def __init__(self, prices = 'train_data_17_18.xlsx', test_prices = \"test_data_19.xlsx\", capital = 1e6):       \n",
        "        self.prices = prices  \n",
        "        self.test_prices = test_prices\n",
        "        self.capital = capital  \n",
        "        self.data = self.load_data()\n",
        "        self.test_data = self.load_test_data()\n",
        "\n",
        "    def load_data(self):\n",
        "        data =  pd.read_excel(self.prices)\n",
        "        try:\n",
        "            data.index = data['Date']\n",
        "            data = data.drop(columns = ['Date'])\n",
        "        except:\n",
        "            data.index = data['date']\n",
        "            data = data.drop(columns = ['date'])            \n",
        "        return data\n",
        "    \n",
        "    def load_test_data(self):\n",
        "        test_data = pd.read_excel(self.test_prices)\n",
        "        try:\n",
        "            test_data.index = test_data['Date']\n",
        "            test_data = test_data.drop(columns = ['Date'])\n",
        "        except:\n",
        "            test_data.index = test_data['date']\n",
        "            test_data = test_data.drop(columns = ['date'])            \n",
        "        return test_data\n",
        "\n",
        "    def preprocess_state(self, state):\n",
        "        return state\n",
        "    \n",
        "    \n",
        "    def get_state(self, t, lookback, is_cov_matrix = True, is_raw_time_series = False):\n",
        "\n",
        "        assert lookback <= t\n",
        "\n",
        "        decision_making_state = self.data.iloc[t-lookback:t]\n",
        "        decision_making_state = decision_making_state.pct_change().dropna()\n",
        "        #set_trace()\n",
        "        if is_cov_matrix:\n",
        "            x = decision_making_state.cov()\n",
        "            return x\n",
        "        else:\n",
        "            if is_raw_time_series:\n",
        "                decision_making_state = self.data.iloc[t-lookback:t]\n",
        "            return self.preprocess_state(decision_making_state)\n",
        "        \n",
        "    \n",
        "    def get_reward(self, action, action_t, reward_t, alpha = 0.01):\n",
        "\n",
        "        def local_portfolio(returns, weights):\n",
        "            weights = np.array(weights)\n",
        "            rets = returns.mean() # * 252\n",
        "            covs = returns.cov() # * 252\n",
        "            P_ret = np.sum(rets * weights)\n",
        "            P_vol = np.sqrt(np.dot(weights.T, np.dot(covs, weights)))\n",
        "            P_sharpe = P_ret / P_vol\n",
        "            return np.array([P_ret, P_vol, P_sharpe])\n",
        "\n",
        "        data_period = self.data[action_t:reward_t]\n",
        "        weights = action\n",
        "        returns = data_period.pct_change().dropna()\n",
        "\n",
        "        sharpe = local_portfolio(returns, weights)[-1]\n",
        "        sharpe = np.array([sharpe] * len(self.data.columns))          \n",
        "        rew = (data_period.values[-1] - data_period.values[0]) / data_period.values[0]\n",
        "\n",
        "        return np.dot(returns, weights), sharpe\n",
        "        \n"
      ]
    },
    {
      "cell_type": "markdown",
      "metadata": {
        "id": "dmH9VxeDS48c"
      },
      "source": [
        "<a id='4.2'></a>\n",
        "## Agent Script"
      ]
    },
    {
      "cell_type": "markdown",
      "metadata": {
        "id": "g3ZyYMjcS48c"
      },
      "source": [
        "In this section, we will train an agent that will perform reinforcement learning based on the actor and critic networks. We will perform the following steps to achieve this:\n",
        "* Create an agent class whose initial function takes in the batch size, state size, and an evaluation Boolean function, to check whether the training is ongoing.\n",
        "* In the agent class, create the following methods:\n",
        "* Create a Replay function that adds, samples, and evaluates a buffer.\n",
        "* Add a new experience to the replay buffer memory\n",
        "* Randomly sample a batch of experienced tuples from the memory. In the following function, we randomly sample states from a memory buffer. We do this so that the states that we feed to the model are not temporally correlated. This will reduce overfitting:\n",
        "* Return the current size of the buffer memory\n",
        "* The number of actions are defined as 3: sit, buy, sell\n",
        "* Define the replay memory size\n",
        "* Reward function is return \n"
      ]
    },
    {
      "cell_type": "code",
      "execution_count": null,
      "metadata": {
        "id": "L1hD3OxLS48c"
      },
      "outputs": [],
      "source": [
        "class Agent:\n",
        "    \n",
        "    def __init__(\n",
        "                     self, \n",
        "                     portfolio_size,\n",
        "                     is_eval = False, \n",
        "                     allow_short = True,\n",
        "                 ):\n",
        "        \n",
        "        self.portfolio_size = portfolio_size\n",
        "        self.allow_short = allow_short\n",
        "        self.input_shape = (portfolio_size, portfolio_size, )\n",
        "        self.action_size = 3 # sit, buy, sell\n",
        "        \n",
        "        self.memory4replay = []\n",
        "        self.is_eval = is_eval\n",
        "\n",
        "        self.alpha = 0.5\n",
        "        self.gamma = 0.95\n",
        "        self.epsilon = 1\n",
        "        self.epsilon_min = 0.01\n",
        "        self.epsilon_decay = 0.99\n",
        "        \n",
        "        self.model = self._model()\n",
        "\n",
        "    def _model(self):\n",
        "        \n",
        "        inputs = Input(shape=self.input_shape)        \n",
        "        x = Flatten()(inputs)\n",
        "        x = Dense(100, activation='elu')(x)\n",
        "        x = Dropout(0.5)(x)\n",
        "        x = Dense(50, activation='elu')(x)\n",
        "        x = Dropout(0.5)(x)\n",
        "        \n",
        "        predictions = []\n",
        "        for i in range(self.portfolio_size):\n",
        "            asset_dense = Dense(self.action_size, activation='linear')(x)   \n",
        "            predictions.append(asset_dense)\n",
        "        \n",
        "        model = Model(inputs=inputs, outputs=predictions)\n",
        "        model.compile(optimizer='adam', loss='mse')\n",
        "        return model\n",
        "\n",
        "    \n",
        "    def nn_pred_to_weights(self, pred, allow_short = False):\n",
        "\n",
        "        weights = np.zeros(len(pred))\n",
        "        raw_weights = np.argmax(pred, axis=-1)\n",
        "\n",
        "        saved_min = None\n",
        "        \n",
        "        for e, r in enumerate(raw_weights):\n",
        "            if r == 0: # sit\n",
        "                weights[e] = 0\n",
        "            elif r == 1: # buy\n",
        "                weights[e] = np.abs(pred[e][0][r])\n",
        "            else:\n",
        "                weights[e] = -np.abs(pred[e][0][r])\n",
        "        #sum of absolute values in short is allowed\n",
        "        if not allow_short:\n",
        "            weights += np.abs(np.min(weights))\n",
        "            saved_min = np.abs(np.min(weights))\n",
        "            saved_sum = np.sum(weights)\n",
        "        else:\n",
        "            saved_sum = np.sum(np.abs(weights))\n",
        "            \n",
        "        weights /= saved_sum\n",
        "        return weights, saved_min, saved_sum\n",
        "    #return the action based on the state, uses the NN function \n",
        "    \n",
        "    def act(self, state):\n",
        "        \n",
        "        if not self.is_eval and random.random() <= self.epsilon:\n",
        "            w = np.random.normal(0, 1, size = (self.portfolio_size, ))  \n",
        "              \n",
        "            saved_min = None\n",
        "            \n",
        "            if not self.allow_short:\n",
        "                w += np.abs(np.min(w))\n",
        "                saved_min = np.abs(np.min(w))\n",
        "                \n",
        "            saved_sum = np.sum(w)\n",
        "            w /= saved_sum\n",
        "            return w , saved_min, saved_sum\n",
        "\n",
        "        pred = self.model.predict(np.expand_dims(state.values, 0))\n",
        "        return self.nn_pred_to_weights(pred, self.allow_short)\n",
        "\n",
        "    \n",
        "    def expReplay(self, batch_size):\n",
        "\n",
        "        \n",
        "        def weights_to_nn_preds_with_reward(action_weights, \n",
        "                                            reward, \n",
        "                                            Q_star = np.zeros((self.portfolio_size, self.action_size))): \n",
        "            \n",
        "            Q = np.zeros((self.portfolio_size, self.action_size))           \n",
        "            for i in range(self.portfolio_size):\n",
        "                if action_weights[i] == 0:\n",
        "                    Q[i][0] = reward[i] + self.gamma * np.max(Q_star[i][0])\n",
        "                elif action_weights[i] > 0:\n",
        "                    Q[i][1] = reward[i] + self.gamma * np.max(Q_star[i][1])\n",
        "                else:\n",
        "                    Q[i][2] = reward[i] + self.gamma * np.max(Q_star[i][2])            \n",
        "            return Q  \n",
        "        \n",
        "        \n",
        "        def restore_Q_from_weights_and_stats(action):            \n",
        "            action_weights, action_min, action_sum = action[0], action[1], action[2]\n",
        "            action_weights = action_weights * action_sum          \n",
        "            if action_min != None:\n",
        "                action_weights = action_weights - action_min   \n",
        "            return action_weights\n",
        "        \n",
        "        for (s, s_, action, reward, done) in self.memory4replay:\n",
        "            \n",
        "            action_weights = restore_Q_from_weights_and_stats(action) \n",
        "            #Reward =reward if not in the terminal state. \n",
        "            Q_learned_value = weights_to_nn_preds_with_reward(action_weights, reward)\n",
        "            s, s_ = s.values, s_.values    \n",
        "\n",
        "            if not done:\n",
        "                # reward + gamma * Q^*(s_, a_)\n",
        "                Q_star = self.model.predict(np.expand_dims(s_, 0))\n",
        "                Q_learned_value = weights_to_nn_preds_with_reward(action_weights, reward, np.squeeze(Q_star))  \n",
        "\n",
        "            Q_learned_value = [xi.reshape(1, -1) for xi in Q_learned_value]\n",
        "            Q_current_value = self.model.predict(np.expand_dims(s, 0))\n",
        "            Q = [np.add(a * (1-self.alpha), q * self.alpha) for a, q in zip(Q_current_value, Q_learned_value)]\n",
        "            \n",
        "            # update current Q function with new optimal value\n",
        "            self.model.fit(np.expand_dims(s, 0), Q, epochs=1, verbose=0)            \n",
        "        \n",
        "        if self.epsilon > self.epsilon_min:\n",
        "            self.epsilon *= self.epsilon_decay "
      ]
    },
    {
      "cell_type": "markdown",
      "metadata": {
        "id": "5TNKFQItS48d"
      },
      "source": [
        "<a id='4.3'></a>\n",
        "## Training the data"
      ]
    },
    {
      "cell_type": "markdown",
      "metadata": {
        "id": "-I8BqXxMS48e"
      },
      "source": [
        "jjje train the algorithm. In order to do that, we first initialize the “Agent” class and “CryptoEnvironment” class. "
      ]
    },
    {
      "cell_type": "code",
      "execution_count": null,
      "metadata": {
        "id": "UOTdHPvNS48e"
      },
      "outputs": [],
      "source": [
        "N_ASSETS = 10 #53\n",
        "agent = Agent(N_ASSETS)\n",
        "env = CryptoEnvironment()"
      ]
    },
    {
      "cell_type": "code",
      "execution_count": null,
      "metadata": {
        "id": "epkV_4oQS48e"
      },
      "outputs": [],
      "source": [
        "window_size = 90\n",
        "episode_count = 50\n",
        "batch_size = 32\n",
        "rebalance_period = 45 #every 90 days weight change"
      ]
    },
    {
      "cell_type": "code",
      "execution_count": null,
      "metadata": {
        "colab": {
          "base_uri": "https://localhost:8080/"
        },
        "id": "Ziw4FZfP6QFL",
        "outputId": "88046fe1-bdf6-4a3e-b526-35630628d81d"
      },
      "outputs": [
        {
          "data": {
            "text/plain": [
              "[(55, 500, 32, 50)]"
            ]
          },
          "execution_count": 22,
          "metadata": {},
          "output_type": "execute_result"
        }
      ],
      "source": [
        "from itertools import product\n",
        "\n",
        "window_size = [55] #[30,60,90]\n",
        "episode_count = [500]\n",
        "batch_size = [32] #[16, 32, 64, 128]\n",
        "rebalance_period = [50] #[30, 45, 60]\n",
        "\n",
        "permutations = list(product(window_size, episode_count, batch_size, rebalance_period))\n",
        "permutations"
      ]
    },
    {
      "cell_type": "code",
      "execution_count": null,
      "metadata": {
        "colab": {
          "base_uri": "https://localhost:8080/"
        },
        "id": "qXytK9rt6gnG",
        "outputId": "cd2ccfcd-7228-4b13-879b-a93deca4afc9"
      },
      "outputs": [
        {
          "name": "stdout",
          "output_type": "stream",
          "text": [
            "55 500 32 50\n"
          ]
        }
      ],
      "source": [
        "for window_size,episode_count,batch_size,rebalance_period in permutations:\n",
        "  print(window_size,episode_count,batch_size,rebalance_period)"
      ]
    },
    {
      "cell_type": "code",
      "execution_count": null,
      "metadata": {
        "colab": {
          "base_uri": "https://localhost:8080/"
        },
        "id": "UJ_N28xiS48e",
        "outputId": "0c26bfb5-e8b5-4df6-c5a3-1562c0d899c7"
      },
      "outputs": [
        {
          "data": {
            "text/plain": [
              "439"
            ]
          },
          "execution_count": 24,
          "metadata": {},
          "output_type": "execute_result"
        }
      ],
      "source": [
        "data_length = len(env.data)\n",
        "data_length"
      ]
    },
    {
      "cell_type": "code",
      "execution_count": null,
      "metadata": {
        "id": "UotfjZKdbsPc"
      },
      "outputs": [],
      "source": [
        "import statsmodels.api as sm\n",
        "from statsmodels import regression\n",
        "def sharpe(R):\n",
        "    r = np.diff(R)\n",
        "    sr = r.mean()/r.std() * np.sqrt(252)\n",
        "    return sr\n",
        "\n",
        "def print_stats(result, benchmark):\n",
        "\n",
        "    sharpe_ratio = sharpe(np.array(result).cumsum())\n",
        "    returns = np.mean(np.array(result))\n",
        "    volatility = np.std(np.array(result))\n",
        "    X = benchmark\n",
        "    y = result\n",
        "    x = sm.add_constant(X)\n",
        "    model = regression.linear_model.OLS(y, x).fit()    \n",
        "    alpha = model.params[0]\n",
        "    beta = model.params[1]\n",
        "    \n",
        "    return np.round(np.array([returns, volatility, sharpe_ratio, alpha, beta]), 4).tolist()"
      ]
    },
    {
      "cell_type": "code",
      "execution_count": null,
      "metadata": {
        "id": "Nnnza79fw1qs",
        "outputId": "4f76a7dc-2abb-4c8a-d9d8-e926d764da32"
      },
      "outputs": [
        {
          "name": "stdout",
          "output_type": "stream",
          "text": [
            "Episode 1/500 epsilon 1\n",
            "Episode 2/500 epsilon 1\n",
            "Episode 3/500 epsilon 1\n",
            "Episode 4/500 epsilon 1\n",
            "Episode 5/500 epsilon 0.99\n",
            "Episode 6/500 epsilon 0.99\n",
            "Episode 7/500 epsilon 0.99\n",
            "Episode 8/500 epsilon 0.99\n",
            "Episode 9/500 epsilon 0.9801\n",
            "Episode 10/500 epsilon 0.9801\n",
            "Episode 11/500 epsilon 0.9801\n",
            "Episode 12/500 epsilon 0.9801\n",
            "Episode 13/500 epsilon 0.9702989999999999\n",
            "Episode 14/500 epsilon 0.9702989999999999\n",
            "Episode 15/500 epsilon 0.9702989999999999\n",
            "Episode 16/500 epsilon 0.9702989999999999\n",
            "Episode 17/500 epsilon 0.96059601\n",
            "Episode 18/500 epsilon 0.96059601\n",
            "Episode 19/500 epsilon 0.96059601\n",
            "Episode 20/500 epsilon 0.96059601\n",
            "Episode 21/500 epsilon 0.9509900498999999\n",
            "Episode 22/500 epsilon 0.9509900498999999\n",
            "Episode 23/500 epsilon 0.9509900498999999\n",
            "Episode 24/500 epsilon 0.9509900498999999\n",
            "Episode 25/500 epsilon 0.9414801494009999\n",
            "Episode 26/500 epsilon 0.9414801494009999\n",
            "Episode 27/500 epsilon 0.9414801494009999\n",
            "Episode 28/500 epsilon 0.9414801494009999\n",
            "Episode 29/500 epsilon 0.9320653479069899\n",
            "Episode 30/500 epsilon 0.9320653479069899\n",
            "Episode 31/500 epsilon 0.9320653479069899\n",
            "Episode 32/500 epsilon 0.9320653479069899\n",
            "Episode 33/500 epsilon 0.92274469442792\n",
            "Episode 34/500 epsilon 0.92274469442792\n",
            "Episode 35/500 epsilon 0.92274469442792\n",
            "Episode 36/500 epsilon 0.92274469442792\n",
            "Episode 37/500 epsilon 0.9135172474836407\n",
            "Episode 38/500 epsilon 0.9135172474836407\n",
            "Episode 39/500 epsilon 0.9135172474836407\n",
            "Episode 40/500 epsilon 0.9135172474836407\n",
            "Episode 41/500 epsilon 0.9043820750088043\n",
            "Episode 42/500 epsilon 0.9043820750088043\n",
            "Episode 43/500 epsilon 0.9043820750088043\n",
            "Episode 44/500 epsilon 0.9043820750088043\n",
            "Episode 45/500 epsilon 0.8953382542587163\n",
            "Episode 46/500 epsilon 0.8953382542587163\n",
            "Episode 47/500 epsilon 0.8953382542587163\n",
            "Episode 48/500 epsilon 0.8953382542587163\n",
            "Episode 49/500 epsilon 0.8863848717161291\n",
            "Episode 50/500 epsilon 0.8863848717161291\n",
            "Episode 51/500 epsilon 0.8863848717161291\n",
            "Episode 52/500 epsilon 0.8863848717161291\n",
            "Episode 53/500 epsilon 0.8775210229989678\n",
            "Episode 54/500 epsilon 0.8775210229989678\n",
            "Episode 55/500 epsilon 0.8775210229989678\n",
            "Episode 56/500 epsilon 0.8775210229989678\n",
            "Episode 57/500 epsilon 0.8687458127689781\n",
            "Episode 58/500 epsilon 0.8687458127689781\n",
            "Episode 59/500 epsilon 0.8687458127689781\n",
            "Episode 60/500 epsilon 0.8687458127689781\n",
            "Episode 61/500 epsilon 0.8600583546412883\n",
            "Episode 62/500 epsilon 0.8600583546412883\n",
            "Episode 63/500 epsilon 0.8600583546412883\n",
            "Episode 64/500 epsilon 0.8600583546412883\n",
            "Episode 65/500 epsilon 0.8514577710948754\n",
            "Episode 66/500 epsilon 0.8514577710948754\n",
            "Episode 67/500 epsilon 0.8514577710948754\n",
            "Episode 68/500 epsilon 0.8514577710948754\n",
            "Episode 69/500 epsilon 0.8429431933839266\n",
            "Episode 70/500 epsilon 0.8429431933839266\n",
            "Episode 71/500 epsilon 0.8429431933839266\n",
            "Episode 72/500 epsilon 0.8429431933839266\n",
            "Episode 73/500 epsilon 0.8345137614500874\n",
            "Episode 74/500 epsilon 0.8345137614500874\n",
            "Episode 75/500 epsilon 0.8345137614500874\n",
            "Episode 76/500 epsilon 0.8345137614500874\n",
            "Episode 77/500 epsilon 0.8261686238355865\n",
            "Episode 78/500 epsilon 0.8261686238355865\n",
            "Episode 79/500 epsilon 0.8261686238355865\n",
            "Episode 80/500 epsilon 0.8261686238355865\n",
            "Episode 81/500 epsilon 0.8179069375972307\n",
            "Episode 82/500 epsilon 0.8179069375972307\n",
            "Episode 83/500 epsilon 0.8179069375972307\n",
            "Episode 84/500 epsilon 0.8179069375972307\n",
            "Episode 85/500 epsilon 0.8097278682212583\n",
            "Episode 86/500 epsilon 0.8097278682212583\n",
            "Episode 87/500 epsilon 0.8097278682212583\n",
            "Episode 88/500 epsilon 0.8097278682212583\n",
            "Episode 89/500 epsilon 0.8016305895390458\n",
            "Episode 90/500 epsilon 0.8016305895390458\n",
            "Episode 91/500 epsilon 0.8016305895390458\n",
            "Episode 92/500 epsilon 0.8016305895390458\n",
            "Episode 93/500 epsilon 0.7936142836436553\n",
            "Episode 94/500 epsilon 0.7936142836436553\n",
            "Episode 95/500 epsilon 0.7936142836436553\n",
            "Episode 96/500 epsilon 0.7936142836436553\n",
            "Episode 97/500 epsilon 0.7856781408072188\n",
            "Episode 98/500 epsilon 0.7856781408072188\n",
            "Episode 99/500 epsilon 0.7856781408072188\n",
            "Episode 100/500 epsilon 0.7856781408072188\n",
            "Episode 101/500 epsilon 0.7778213593991465\n",
            "Episode 102/500 epsilon 0.7778213593991465\n",
            "Episode 103/500 epsilon 0.7778213593991465\n",
            "Episode 104/500 epsilon 0.7778213593991465\n",
            "Episode 105/500 epsilon 0.7700431458051551\n",
            "Episode 106/500 epsilon 0.7700431458051551\n",
            "Episode 107/500 epsilon 0.7700431458051551\n",
            "Episode 108/500 epsilon 0.7700431458051551\n",
            "Episode 109/500 epsilon 0.7623427143471035\n",
            "Episode 110/500 epsilon 0.7623427143471035\n",
            "Episode 111/500 epsilon 0.7623427143471035\n",
            "Episode 112/500 epsilon 0.7623427143471035\n",
            "Episode 113/500 epsilon 0.7547192872036325\n",
            "Episode 114/500 epsilon 0.7547192872036325\n",
            "Episode 115/500 epsilon 0.7547192872036325\n",
            "Episode 116/500 epsilon 0.7547192872036325\n",
            "Episode 117/500 epsilon 0.7471720943315961\n",
            "Episode 118/500 epsilon 0.7471720943315961\n",
            "Episode 119/500 epsilon 0.7471720943315961\n",
            "Episode 120/500 epsilon 0.7471720943315961\n",
            "Episode 121/500 epsilon 0.7397003733882802\n",
            "Episode 122/500 epsilon 0.7397003733882802\n",
            "Episode 123/500 epsilon 0.7397003733882802\n",
            "Episode 124/500 epsilon 0.7397003733882802\n",
            "Episode 125/500 epsilon 0.7323033696543974\n",
            "Episode 126/500 epsilon 0.7323033696543974\n",
            "Episode 127/500 epsilon 0.7323033696543974\n",
            "Episode 128/500 epsilon 0.7323033696543974\n",
            "Episode 129/500 epsilon 0.7249803359578534\n",
            "Episode 130/500 epsilon 0.7249803359578534\n",
            "Episode 131/500 epsilon 0.7249803359578534\n",
            "Episode 132/500 epsilon 0.7249803359578534\n",
            "Episode 133/500 epsilon 0.7177305325982748\n",
            "Episode 134/500 epsilon 0.7177305325982748\n",
            "Episode 135/500 epsilon 0.7177305325982748\n",
            "Episode 136/500 epsilon 0.7177305325982748\n",
            "Episode 137/500 epsilon 0.7105532272722921\n",
            "Episode 138/500 epsilon 0.7105532272722921\n",
            "Episode 139/500 epsilon 0.7105532272722921\n",
            "Episode 140/500 epsilon 0.7105532272722921\n",
            "Episode 141/500 epsilon 0.7034476949995692\n",
            "Episode 142/500 epsilon 0.7034476949995692\n",
            "Episode 143/500 epsilon 0.7034476949995692\n",
            "Episode 144/500 epsilon 0.7034476949995692\n",
            "Episode 145/500 epsilon 0.6964132180495735\n",
            "Episode 146/500 epsilon 0.6964132180495735\n",
            "Episode 147/500 epsilon 0.6964132180495735\n",
            "Episode 148/500 epsilon 0.6964132180495735\n",
            "Episode 149/500 epsilon 0.6894490858690777\n",
            "Episode 150/500 epsilon 0.6894490858690777\n",
            "Episode 151/500 epsilon 0.6894490858690777\n",
            "Episode 152/500 epsilon 0.6894490858690777\n",
            "Episode 153/500 epsilon 0.682554595010387\n",
            "Episode 154/500 epsilon 0.682554595010387\n",
            "Episode 155/500 epsilon 0.682554595010387\n",
            "Episode 156/500 epsilon 0.682554595010387\n",
            "Episode 157/500 epsilon 0.6757290490602831\n",
            "Episode 158/500 epsilon 0.6757290490602831\n",
            "Episode 159/500 epsilon 0.6757290490602831\n",
            "Episode 160/500 epsilon 0.6757290490602831\n",
            "Episode 161/500 epsilon 0.6689717585696803\n",
            "Episode 162/500 epsilon 0.6689717585696803\n",
            "Episode 163/500 epsilon 0.6689717585696803\n",
            "Episode 164/500 epsilon 0.6689717585696803\n",
            "Episode 165/500 epsilon 0.6622820409839835\n",
            "Episode 166/500 epsilon 0.6622820409839835\n",
            "Episode 167/500 epsilon 0.6622820409839835\n",
            "Episode 168/500 epsilon 0.6622820409839835\n",
            "Episode 169/500 epsilon 0.6556592205741436\n",
            "Episode 170/500 epsilon 0.6556592205741436\n",
            "Episode 171/500 epsilon 0.6556592205741436\n",
            "Episode 172/500 epsilon 0.6556592205741436\n",
            "Episode 173/500 epsilon 0.6491026283684022\n",
            "Episode 174/500 epsilon 0.6491026283684022\n",
            "Episode 175/500 epsilon 0.6491026283684022\n",
            "Episode 176/500 epsilon 0.6491026283684022\n",
            "Episode 177/500 epsilon 0.6426116020847181\n",
            "Episode 178/500 epsilon 0.6426116020847181\n",
            "Episode 179/500 epsilon 0.6426116020847181\n",
            "Episode 180/500 epsilon 0.6426116020847181\n",
            "Episode 181/500 epsilon 0.6361854860638709\n",
            "Episode 182/500 epsilon 0.6361854860638709\n",
            "Episode 183/500 epsilon 0.6361854860638709\n",
            "Episode 184/500 epsilon 0.6361854860638709\n",
            "Episode 185/500 epsilon 0.6298236312032323\n",
            "Episode 186/500 epsilon 0.6298236312032323\n",
            "Episode 187/500 epsilon 0.6298236312032323\n",
            "Episode 188/500 epsilon 0.6298236312032323\n",
            "Episode 189/500 epsilon 0.6235253948912\n",
            "Episode 190/500 epsilon 0.6235253948912\n",
            "Episode 191/500 epsilon 0.6235253948912\n",
            "Episode 192/500 epsilon 0.6235253948912\n",
            "Episode 193/500 epsilon 0.617290140942288\n",
            "Episode 194/500 epsilon 0.617290140942288\n",
            "Episode 195/500 epsilon 0.617290140942288\n",
            "Episode 196/500 epsilon 0.617290140942288\n",
            "Episode 197/500 epsilon 0.6111172395328651\n",
            "Episode 198/500 epsilon 0.6111172395328651\n",
            "Episode 199/500 epsilon 0.6111172395328651\n",
            "Episode 200/500 epsilon 0.6111172395328651\n",
            "Episode 201/500 epsilon 0.6050060671375365\n",
            "Episode 202/500 epsilon 0.6050060671375365\n",
            "Episode 203/500 epsilon 0.6050060671375365\n",
            "Episode 204/500 epsilon 0.6050060671375365\n",
            "Episode 205/500 epsilon 0.5989560064661611\n",
            "Episode 206/500 epsilon 0.5989560064661611\n",
            "Episode 207/500 epsilon 0.5989560064661611\n",
            "Episode 208/500 epsilon 0.5989560064661611\n",
            "Episode 209/500 epsilon 0.5929664464014994\n",
            "Episode 210/500 epsilon 0.5929664464014994\n",
            "Episode 211/500 epsilon 0.5929664464014994\n",
            "Episode 212/500 epsilon 0.5929664464014994\n",
            "Episode 213/500 epsilon 0.5870367819374844\n",
            "Episode 214/500 epsilon 0.5870367819374844\n",
            "Episode 215/500 epsilon 0.5870367819374844\n",
            "Episode 216/500 epsilon 0.5870367819374844\n",
            "Episode 217/500 epsilon 0.5811664141181095\n",
            "Episode 218/500 epsilon 0.5811664141181095\n",
            "Episode 219/500 epsilon 0.5811664141181095\n",
            "Episode 220/500 epsilon 0.5811664141181095\n",
            "Episode 221/500 epsilon 0.5753547499769285\n",
            "Episode 222/500 epsilon 0.5753547499769285\n",
            "Episode 223/500 epsilon 0.5753547499769285\n",
            "Episode 224/500 epsilon 0.5753547499769285\n",
            "Episode 225/500 epsilon 0.5696012024771592\n",
            "Episode 226/500 epsilon 0.5696012024771592\n",
            "Episode 227/500 epsilon 0.5696012024771592\n",
            "Episode 228/500 epsilon 0.5696012024771592\n",
            "Episode 229/500 epsilon 0.5639051904523876\n",
            "Episode 230/500 epsilon 0.5639051904523876\n",
            "Episode 231/500 epsilon 0.5639051904523876\n",
            "Episode 232/500 epsilon 0.5639051904523876\n",
            "Episode 233/500 epsilon 0.5582661385478638\n",
            "Episode 234/500 epsilon 0.5582661385478638\n",
            "Episode 235/500 epsilon 0.5582661385478638\n",
            "Episode 236/500 epsilon 0.5582661385478638\n",
            "Episode 237/500 epsilon 0.5526834771623851\n",
            "Episode 238/500 epsilon 0.5526834771623851\n",
            "Episode 239/500 epsilon 0.5526834771623851\n",
            "Episode 240/500 epsilon 0.5526834771623851\n",
            "Episode 241/500 epsilon 0.5471566423907612\n",
            "Episode 242/500 epsilon 0.5471566423907612\n",
            "Episode 243/500 epsilon 0.5471566423907612\n",
            "Episode 244/500 epsilon 0.5471566423907612\n",
            "Episode 245/500 epsilon 0.5416850759668536\n",
            "Episode 246/500 epsilon 0.5416850759668536\n",
            "Episode 247/500 epsilon 0.5416850759668536\n",
            "Episode 248/500 epsilon 0.5416850759668536\n",
            "Episode 249/500 epsilon 0.536268225207185\n",
            "Episode 250/500 epsilon 0.536268225207185\n",
            "Episode 251/500 epsilon 0.536268225207185\n",
            "Episode 252/500 epsilon 0.536268225207185\n",
            "Episode 253/500 epsilon 0.5309055429551132\n",
            "Episode 254/500 epsilon 0.5309055429551132\n",
            "Episode 255/500 epsilon 0.5309055429551132\n",
            "Episode 256/500 epsilon 0.5309055429551132\n",
            "Episode 257/500 epsilon 0.525596487525562\n",
            "Episode 258/500 epsilon 0.525596487525562\n",
            "Episode 259/500 epsilon 0.525596487525562\n",
            "Episode 260/500 epsilon 0.525596487525562\n",
            "Episode 261/500 epsilon 0.5203405226503064\n",
            "Episode 262/500 epsilon 0.5203405226503064\n",
            "Episode 263/500 epsilon 0.5203405226503064\n",
            "Episode 264/500 epsilon 0.5203405226503064\n",
            "Episode 265/500 epsilon 0.5151371174238033\n",
            "Episode 266/500 epsilon 0.5151371174238033\n",
            "Episode 267/500 epsilon 0.5151371174238033\n",
            "Episode 268/500 epsilon 0.5151371174238033\n",
            "Episode 269/500 epsilon 0.5099857462495653\n",
            "Episode 270/500 epsilon 0.5099857462495653\n",
            "Episode 271/500 epsilon 0.5099857462495653\n",
            "Episode 272/500 epsilon 0.5099857462495653\n",
            "Episode 273/500 epsilon 0.5048858887870696\n",
            "Episode 274/500 epsilon 0.5048858887870696\n",
            "Episode 275/500 epsilon 0.5048858887870696\n",
            "Episode 276/500 epsilon 0.5048858887870696\n",
            "Episode 277/500 epsilon 0.4998370298991989\n",
            "Episode 278/500 epsilon 0.4998370298991989\n",
            "Episode 279/500 epsilon 0.4998370298991989\n",
            "Episode 280/500 epsilon 0.4998370298991989\n",
            "Episode 281/500 epsilon 0.49483865960020695\n",
            "Episode 282/500 epsilon 0.49483865960020695\n",
            "Episode 283/500 epsilon 0.49483865960020695\n",
            "Episode 284/500 epsilon 0.49483865960020695\n",
            "Episode 285/500 epsilon 0.4898902730042049\n",
            "Episode 286/500 epsilon 0.4898902730042049\n",
            "Episode 287/500 epsilon 0.4898902730042049\n",
            "Episode 288/500 epsilon 0.4898902730042049\n",
            "Episode 289/500 epsilon 0.48499137027416284\n",
            "Episode 290/500 epsilon 0.48499137027416284\n",
            "Episode 291/500 epsilon 0.48499137027416284\n",
            "Episode 292/500 epsilon 0.48499137027416284\n",
            "Episode 293/500 epsilon 0.4801414565714212\n",
            "Episode 294/500 epsilon 0.4801414565714212\n",
            "Episode 295/500 epsilon 0.4801414565714212\n",
            "Episode 296/500 epsilon 0.4801414565714212\n",
            "Episode 297/500 epsilon 0.475340042005707\n",
            "Episode 298/500 epsilon 0.475340042005707\n",
            "Episode 299/500 epsilon 0.475340042005707\n",
            "Episode 300/500 epsilon 0.475340042005707\n",
            "Episode 301/500 epsilon 0.47058664158564995\n",
            "Episode 302/500 epsilon 0.47058664158564995\n",
            "Episode 303/500 epsilon 0.47058664158564995\n",
            "Episode 304/500 epsilon 0.47058664158564995\n",
            "Episode 305/500 epsilon 0.4658807751697934\n",
            "Episode 306/500 epsilon 0.4658807751697934\n",
            "Episode 307/500 epsilon 0.4658807751697934\n",
            "Episode 308/500 epsilon 0.4658807751697934\n",
            "Episode 309/500 epsilon 0.4612219674180955\n",
            "Episode 310/500 epsilon 0.4612219674180955\n",
            "Episode 311/500 epsilon 0.4612219674180955\n",
            "Episode 312/500 epsilon 0.4612219674180955\n",
            "Episode 313/500 epsilon 0.45660974774391455\n",
            "Episode 314/500 epsilon 0.45660974774391455\n",
            "Episode 315/500 epsilon 0.45660974774391455\n",
            "Episode 316/500 epsilon 0.45660974774391455\n",
            "Episode 317/500 epsilon 0.4520436502664754\n",
            "Episode 318/500 epsilon 0.4520436502664754\n",
            "Episode 319/500 epsilon 0.4520436502664754\n",
            "Episode 320/500 epsilon 0.4520436502664754\n",
            "Episode 321/500 epsilon 0.44752321376381066\n",
            "Episode 322/500 epsilon 0.44752321376381066\n",
            "Episode 323/500 epsilon 0.44752321376381066\n",
            "Episode 324/500 epsilon 0.44752321376381066\n",
            "Episode 325/500 epsilon 0.44304798162617254\n",
            "Episode 326/500 epsilon 0.44304798162617254\n",
            "Episode 327/500 epsilon 0.44304798162617254\n",
            "Episode 328/500 epsilon 0.44304798162617254\n",
            "Episode 329/500 epsilon 0.4386175018099108\n",
            "Episode 330/500 epsilon 0.4386175018099108\n",
            "Episode 331/500 epsilon 0.4386175018099108\n",
            "Episode 332/500 epsilon 0.4386175018099108\n",
            "Episode 333/500 epsilon 0.4342313267918117\n",
            "Episode 334/500 epsilon 0.4342313267918117\n",
            "Episode 335/500 epsilon 0.4342313267918117\n",
            "Episode 336/500 epsilon 0.4342313267918117\n",
            "Episode 337/500 epsilon 0.4298890135238936\n",
            "Episode 338/500 epsilon 0.4298890135238936\n",
            "Episode 339/500 epsilon 0.4298890135238936\n",
            "Episode 340/500 epsilon 0.4298890135238936\n",
            "Episode 341/500 epsilon 0.42559012338865465\n",
            "Episode 342/500 epsilon 0.42559012338865465\n",
            "Episode 343/500 epsilon 0.42559012338865465\n",
            "Episode 344/500 epsilon 0.42559012338865465\n",
            "Episode 345/500 epsilon 0.4213342221547681\n",
            "Episode 346/500 epsilon 0.4213342221547681\n",
            "Episode 347/500 epsilon 0.4213342221547681\n",
            "Episode 348/500 epsilon 0.4213342221547681\n",
            "Episode 349/500 epsilon 0.41712087993322045\n",
            "Episode 350/500 epsilon 0.41712087993322045\n",
            "Episode 351/500 epsilon 0.41712087993322045\n",
            "Episode 352/500 epsilon 0.41712087993322045\n",
            "Episode 353/500 epsilon 0.41294967113388825\n",
            "Episode 354/500 epsilon 0.41294967113388825\n",
            "Episode 355/500 epsilon 0.41294967113388825\n",
            "Episode 356/500 epsilon 0.41294967113388825\n",
            "Episode 357/500 epsilon 0.40882017442254937\n",
            "Episode 358/500 epsilon 0.40882017442254937\n",
            "Episode 359/500 epsilon 0.40882017442254937\n",
            "Episode 360/500 epsilon 0.40882017442254937\n",
            "Episode 361/500 epsilon 0.4047319726783239\n",
            "Episode 362/500 epsilon 0.4047319726783239\n",
            "Episode 363/500 epsilon 0.4047319726783239\n",
            "Episode 364/500 epsilon 0.4047319726783239\n",
            "Episode 365/500 epsilon 0.40068465295154065\n",
            "Episode 366/500 epsilon 0.40068465295154065\n",
            "Episode 367/500 epsilon 0.40068465295154065\n",
            "Episode 368/500 epsilon 0.40068465295154065\n",
            "Episode 369/500 epsilon 0.39667780642202527\n",
            "Episode 370/500 epsilon 0.39667780642202527\n",
            "Episode 371/500 epsilon 0.39667780642202527\n",
            "Episode 372/500 epsilon 0.39667780642202527\n",
            "Episode 373/500 epsilon 0.392711028357805\n",
            "Episode 374/500 epsilon 0.392711028357805\n",
            "Episode 375/500 epsilon 0.392711028357805\n",
            "Episode 376/500 epsilon 0.392711028357805\n",
            "Episode 377/500 epsilon 0.38878391807422696\n",
            "Episode 378/500 epsilon 0.38878391807422696\n",
            "Episode 379/500 epsilon 0.38878391807422696\n",
            "Episode 380/500 epsilon 0.38878391807422696\n",
            "Episode 381/500 epsilon 0.3848960788934847\n",
            "Episode 382/500 epsilon 0.3848960788934847\n",
            "Episode 383/500 epsilon 0.3848960788934847\n",
            "Episode 384/500 epsilon 0.3848960788934847\n",
            "Episode 385/500 epsilon 0.38104711810454983\n",
            "Episode 386/500 epsilon 0.38104711810454983\n",
            "Episode 387/500 epsilon 0.38104711810454983\n",
            "Episode 388/500 epsilon 0.38104711810454983\n",
            "Episode 389/500 epsilon 0.37723664692350434\n",
            "Episode 390/500 epsilon 0.37723664692350434\n",
            "Episode 391/500 epsilon 0.37723664692350434\n",
            "Episode 392/500 epsilon 0.37723664692350434\n",
            "Episode 393/500 epsilon 0.37346428045426927\n",
            "Episode 394/500 epsilon 0.37346428045426927\n",
            "Episode 395/500 epsilon 0.37346428045426927\n",
            "Episode 396/500 epsilon 0.37346428045426927\n",
            "Episode 397/500 epsilon 0.36972963764972655\n",
            "Episode 398/500 epsilon 0.36972963764972655\n",
            "Episode 399/500 epsilon 0.36972963764972655\n",
            "Episode 400/500 epsilon 0.36972963764972655\n",
            "Episode 401/500 epsilon 0.36603234127322926\n",
            "Episode 402/500 epsilon 0.36603234127322926\n",
            "Episode 403/500 epsilon 0.36603234127322926\n",
            "Episode 404/500 epsilon 0.36603234127322926\n",
            "Episode 405/500 epsilon 0.36237201786049694\n",
            "Episode 406/500 epsilon 0.36237201786049694\n",
            "Episode 407/500 epsilon 0.36237201786049694\n",
            "Episode 408/500 epsilon 0.36237201786049694\n",
            "Episode 409/500 epsilon 0.358748297681892\n",
            "Episode 410/500 epsilon 0.358748297681892\n",
            "Episode 411/500 epsilon 0.358748297681892\n",
            "Episode 412/500 epsilon 0.358748297681892\n",
            "Episode 413/500 epsilon 0.35516081470507305\n",
            "Episode 414/500 epsilon 0.35516081470507305\n",
            "Episode 415/500 epsilon 0.35516081470507305\n",
            "Episode 416/500 epsilon 0.35516081470507305\n",
            "Episode 417/500 epsilon 0.3516092065580223\n",
            "Episode 418/500 epsilon 0.3516092065580223\n",
            "Episode 419/500 epsilon 0.3516092065580223\n",
            "Episode 420/500 epsilon 0.3516092065580223\n",
            "Episode 421/500 epsilon 0.34809311449244207\n",
            "Episode 422/500 epsilon 0.34809311449244207\n",
            "Episode 423/500 epsilon 0.34809311449244207\n",
            "Episode 424/500 epsilon 0.34809311449244207\n",
            "Episode 425/500 epsilon 0.34461218334751764\n",
            "Episode 426/500 epsilon 0.34461218334751764\n",
            "Episode 427/500 epsilon 0.34461218334751764\n",
            "Episode 428/500 epsilon 0.34461218334751764\n",
            "Episode 429/500 epsilon 0.34116606151404244\n",
            "Episode 430/500 epsilon 0.34116606151404244\n",
            "Episode 431/500 epsilon 0.34116606151404244\n",
            "Episode 432/500 epsilon 0.34116606151404244\n",
            "Episode 433/500 epsilon 0.337754400898902\n",
            "Episode 434/500 epsilon 0.337754400898902\n",
            "Episode 435/500 epsilon 0.337754400898902\n",
            "Episode 436/500 epsilon 0.337754400898902\n",
            "Episode 437/500 epsilon 0.334376856889913\n",
            "Episode 438/500 epsilon 0.334376856889913\n",
            "Episode 439/500 epsilon 0.334376856889913\n",
            "Episode 440/500 epsilon 0.334376856889913\n",
            "Episode 441/500 epsilon 0.33103308832101386\n",
            "Episode 442/500 epsilon 0.33103308832101386\n",
            "Episode 443/500 epsilon 0.33103308832101386\n",
            "Episode 444/500 epsilon 0.33103308832101386\n",
            "Episode 445/500 epsilon 0.3277227574378037\n",
            "Episode 446/500 epsilon 0.3277227574378037\n",
            "Episode 447/500 epsilon 0.3277227574378037\n",
            "Episode 448/500 epsilon 0.3277227574378037\n",
            "Episode 449/500 epsilon 0.3244455298634257\n",
            "Episode 450/500 epsilon 0.3244455298634257\n",
            "Episode 451/500 epsilon 0.3244455298634257\n",
            "Episode 452/500 epsilon 0.3244455298634257\n",
            "Episode 453/500 epsilon 0.3212010745647914\n",
            "Episode 454/500 epsilon 0.3212010745647914\n",
            "Episode 455/500 epsilon 0.3212010745647914\n",
            "Episode 456/500 epsilon 0.3212010745647914\n",
            "Episode 457/500 epsilon 0.3179890638191435\n",
            "Episode 458/500 epsilon 0.3179890638191435\n",
            "Episode 459/500 epsilon 0.3179890638191435\n",
            "Episode 460/500 epsilon 0.3179890638191435\n",
            "Episode 461/500 epsilon 0.31480917318095203\n",
            "Episode 462/500 epsilon 0.31480917318095203\n",
            "Episode 463/500 epsilon 0.31480917318095203\n",
            "Episode 464/500 epsilon 0.31480917318095203\n",
            "Episode 465/500 epsilon 0.3116610814491425\n",
            "Episode 466/500 epsilon 0.3116610814491425\n",
            "Episode 467/500 epsilon 0.3116610814491425\n",
            "Episode 468/500 epsilon 0.3116610814491425\n",
            "Episode 469/500 epsilon 0.30854447063465107\n",
            "Episode 470/500 epsilon 0.30854447063465107\n",
            "Episode 471/500 epsilon 0.30854447063465107\n",
            "Episode 472/500 epsilon 0.30854447063465107\n",
            "Episode 473/500 epsilon 0.30545902592830454\n",
            "Episode 474/500 epsilon 0.30545902592830454\n",
            "Episode 475/500 epsilon 0.30545902592830454\n",
            "Episode 476/500 epsilon 0.30545902592830454\n",
            "Episode 477/500 epsilon 0.3024044356690215\n",
            "Episode 478/500 epsilon 0.3024044356690215\n",
            "Episode 479/500 epsilon 0.3024044356690215\n",
            "Episode 480/500 epsilon 0.3024044356690215\n",
            "Episode 481/500 epsilon 0.29938039131233124\n",
            "Episode 482/500 epsilon 0.29938039131233124\n",
            "Episode 483/500 epsilon 0.29938039131233124\n",
            "Episode 484/500 epsilon 0.29938039131233124\n",
            "Episode 485/500 epsilon 0.2963865873992079\n",
            "Episode 486/500 epsilon 0.2963865873992079\n",
            "Episode 487/500 epsilon 0.2963865873992079\n",
            "Episode 488/500 epsilon 0.2963865873992079\n",
            "Episode 489/500 epsilon 0.29342272152521587\n",
            "Episode 490/500 epsilon 0.29342272152521587\n",
            "Episode 491/500 epsilon 0.29342272152521587\n",
            "Episode 492/500 epsilon 0.29342272152521587\n",
            "Episode 493/500 epsilon 0.2904884943099637\n",
            "Episode 494/500 epsilon 0.2904884943099637\n",
            "Episode 495/500 epsilon 0.2904884943099637\n",
            "Episode 496/500 epsilon 0.2904884943099637\n",
            "Episode 497/500 epsilon 0.28758360936686406\n",
            "Episode 498/500 epsilon 0.28758360936686406\n",
            "Episode 499/500 epsilon 0.28758360936686406\n",
            "Episode 500/500 epsilon 0.28758360936686406\n",
            "with GPU: 1051.7919293\n"
          ]
        }
      ],
      "source": [
        "from timeit import default_timer as timer\n",
        "start = timer()\n",
        "#i=0\n",
        "#res_df = pd.DataFrame({'Window_Size': [], 'Episode': [], 'Batch Size': [], 'Rebalancing Period': [],'Returns': [], 'Volatility': [], 'Sharpe Ratio': [], 'Alpha': [], 'Beta': []})\n",
        "for window_size,episode_count,batch_size,rebalance_period in permutations:\n",
        "    \n",
        "    for e in range(episode_count):\n",
        "        agent.is_eval = False\n",
        "        data_length = len(env.data)\n",
        "        returns_history = []\n",
        "        returns_history_equal = []\n",
        "      \n",
        "        rewards_history = []\n",
        "        equal_rewards = []\n",
        "      \n",
        "        actions_to_show = []\n",
        "      \n",
        "        print(\"Episode \" + str(e+1) + \"/\" + str(episode_count), 'epsilon', agent.epsilon)\n",
        "\n",
        "        s = env.get_state(np.random.randint(window_size+1, data_length-window_size-1), window_size)\n",
        "        total_profit = 0\n",
        "      \n",
        "        \n",
        "        for t in range(window_size, data_length, rebalance_period):\n",
        "            date1 = t-rebalance_period\n",
        "          #correlation from 90-180 days \n",
        "            s_ = env.get_state(t, window_size)\n",
        "            action = agent.act(s_)\n",
        "          \n",
        "            actions_to_show.append(action[0])\n",
        "          \n",
        "            weighted_returns, reward = env.get_reward(action[0], date1, t)\n",
        "            weighted_returns_equal, reward_equal = env.get_reward(np.ones(agent.portfolio_size) / agent.portfolio_size, date1, t)\n",
        "\n",
        "            rewards_history.append(reward)\n",
        "            equal_rewards.append(reward_equal)\n",
        "            returns_history.extend(weighted_returns)\n",
        "            returns_history_equal.extend(weighted_returns_equal)\n",
        "\n",
        "            done = True if t == data_length else False\n",
        "            agent.memory4replay.append((s, s_, action, reward, done))\n",
        "          \n",
        "            if len(agent.memory4replay) >= batch_size:\n",
        "                agent.expReplay(batch_size)\n",
        "                agent.memory4replay = []\n",
        "              \n",
        "            s = s_\n",
        "          #print(action[0])\n",
        "\n",
        "'''\n",
        "        rl_result = np.array(returns_history).cumsum()\n",
        "        equal_result = np.array(returns_history_equal).cumsum()\n",
        "    \n",
        "        plt.figure(figsize = (12, 2))\n",
        "        plt.plot(rl_result, color = 'black', ls = '-')\n",
        "        plt.plot(equal_result, color = 'grey', ls = '--')\n",
        "        plt.show()\n",
        "      \n",
        "        plt.figure(figsize = (12, 2))\n",
        "        for a in actions_to_show:    \n",
        "            plt.bar(np.arange(N_ASSETS), a, color = 'grey', alpha = 0.25)\n",
        "            plt.xticks(np.arange(N_ASSETS), env.data.columns, rotation='vertical')\n",
        "        plt.show()\n",
        "      \n",
        "  \n",
        "  agent.is_eval = True\n",
        "\n",
        "  actions_equal, actions_rl = [], []\n",
        "  result_equal, result_rl = [], []\n",
        "\n",
        "  for t in range(window_size, len(env.data), rebalance_period):\n",
        "\n",
        "      date1 = t-rebalance_period\n",
        "      s_ = env.get_state(t, window_size)\n",
        "      action = agent.act(s_)\n",
        "      #print(action)\n",
        "      weighted_returns, reward = env.get_reward(action[0], date1, t)\n",
        "      weighted_returns_equal, reward_equal = env.get_reward(\n",
        "          np.ones(agent.portfolio_size) / agent.portfolio_size, date1, t)\n",
        "\n",
        "      result_equal.append(weighted_returns_equal.tolist())\n",
        "      actions_equal.append(np.ones(agent.portfolio_size) / agent.portfolio_size)\n",
        "      \n",
        "      result_rl.append(weighted_returns.tolist())\n",
        "      actions_rl.append(action[0])\n",
        "\n",
        "  result_equal_vis = [item for sublist in result_equal for item in sublist]\n",
        "  result_rl_vis = [item for sublist in result_rl for item in sublist]\n",
        "\n",
        "  plt.figure()\n",
        "  plt.plot(np.array(result_equal_vis).cumsum(), label = 'Benchmark', color = 'grey',ls = '--')\n",
        "  plt.plot(np.array(result_rl_vis).cumsum(), label = 'Deep RL portfolio', color = 'black',ls = '-')\n",
        "  plt.show()\n",
        "\n",
        "  print('EQUAL', print_stats(result_equal_vis, result_equal_vis))\n",
        "  l = print_stats(result_rl_vis, result_equal_vis)\n",
        "  print('RL AGENT', l)\n",
        "  #if res_df.empty:\n",
        "    #l = print_stats(result_rl_vis, result_equal_vis)\n",
        "    #res_df = pd.DataFrame({'Returns': list(l[0]), 'Volatility': list(l[1]), 'Sharpe Ratio': list(l[2]), 'Alpha': list(l[3]), 'Beta': list(l[4])}) \n",
        "  #else:\n",
        "  #res_df.loc[len(res_df.index)] = list(permutations[i])+l\n",
        "  #i += 1\n",
        "#res_df[['Window_Size','Episode','Batch Size','Rebalancing Period']] = res_df[['Window_Size','Episode','Batch Size','Rebalancing Period']].astype(int)\n",
        "'''\n",
        "print(\"with GPU:\", timer()-start)"
      ]
    },
    {
      "cell_type": "code",
      "execution_count": null,
      "metadata": {
        "id": "L8UEWBQ9w1qs",
        "outputId": "055b6dbb-2be8-42c1-dfb4-cd5997c58352"
      },
      "outputs": [
        {
          "name": "stdout",
          "output_type": "stream",
          "text": [
            "Num GPUs Available:  0\n"
          ]
        }
      ],
      "source": [
        "print(\"Num GPUs Available: \", len(tf.config.list_physical_devices('GPU')))"
      ]
    },
    {
      "cell_type": "code",
      "execution_count": null,
      "metadata": {
        "id": "nAci9oAKw1qs",
        "outputId": "294bea94-7646-47fc-ca2a-cdb3d79dbdcd"
      },
      "outputs": [
        {
          "name": "stdout",
          "output_type": "stream",
          "text": [
            "12507.872999988194\n",
            "11799.729999997908\n",
            "3869.6169999911945\n",
            "1759.608999991542\n"
          ]
        }
      ],
      "source": [
        "from numba import vectorize,float64\n",
        "\n",
        "from numba import njit,guvectorize\n",
        "\n",
        "import numpy as np\n",
        "\n",
        "from time import perf_counter\n",
        "\n",
        "def timer(f,*args):\n",
        "    start = perf_counter()\n",
        "    f(*args)\n",
        "    return 1000 * (perf_counter() - start)\n",
        "\n",
        "def native_f(x, y):\n",
        "    return x**2 + y**2\n",
        "\n",
        "@njit\n",
        "def njit_f(x, y):\n",
        "    return x**2 + y**2\n",
        "\n",
        "# It is preferable to give type signatures\n",
        "# In this function 2 float64 are taken as inputs and returning a float 64 as output \n",
        "# Output Type (Input 1 type, Input 2 type)\n",
        "# always add nopython=True explicitly\n",
        "@vectorize([float64(float64, float64)],nopython=True)\n",
        "def vector_f(x, y):\n",
        "    return x**2 + y**2\n",
        "\n",
        "# float64[:] : array of float 64\n",
        "# '(n),(n)->(n)' => your inputs are 2 n dimensional array  and output is n dimensional array \n",
        "# In this case numba is able to infer the correct data type even though I am using this function on 2 d array\n",
        "# correct representation : [(float64[:,:], float64[:,:], float64[:,:])], '(n,n),(n,n)->(n,n)'\n",
        "@guvectorize([(float64[:], float64[:], float64[:])], '(n),(n)->(n)',nopython=True)\n",
        "def gu_vector_f(x, y, z):\n",
        "# it takes z as a input variable and fills it up\n",
        "# it returns nothing\n",
        "    z =  x**2 + y**2            \n",
        "\n",
        "row = 1000\n",
        "col = 1000\n",
        "\n",
        "a = np.random.rand(row,col)\n",
        "b = np.random.rand(row,col)\n",
        "\n",
        "num_freq = 100\n",
        "\n",
        "print(1000 * np.mean([timer(native_f,a,b) for _ in range(num_freq)]))\n",
        "\n",
        "print(1000 * np.mean([timer(njit_f,a,b) for _ in range(num_freq)]))\n",
        "\n",
        "print(1000 * np.mean([timer(vector_f,a,b) for _ in range(num_freq)]))\n",
        "\n",
        "print(1000 * np.mean([timer(gu_vector_f,a,b) for _ in range(num_freq)]))"
      ]
    },
    {
      "cell_type": "code",
      "execution_count": null,
      "metadata": {
        "id": "ekrC-oSBw1qt",
        "outputId": "62cf0808-ebe3-45f5-fb02-aecc9085cdfd"
      },
      "outputs": [
        {
          "name": "stdout",
          "output_type": "stream",
          "text": [
            "without GPU: 4.050085300000092\n",
            "with GPU: 0.09995720000006258\n"
          ]
        }
      ],
      "source": [
        "from numba import jit, cuda\n",
        "import numpy as np\n",
        "# to measure exec time\n",
        "from timeit import default_timer as timer\n",
        "\n",
        "# normal function to run on cpu\n",
        "def func(a):\t\t\t\t\t\t\t\t\n",
        "\tfor i in range(9999999):\n",
        "\t\ta[i]+= 1\t\n",
        "\n",
        "# function optimized to run on gpu\n",
        "@jit(target_backend='cuda')\t\t\t\t\t\t\n",
        "def func2(a):\n",
        "\tfor i in range(9999999):\n",
        "\t\ta[i]+= 1\n",
        "if __name__==\"__main__\":\n",
        "\tn = 10000000\t\t\t\t\t\t\t\n",
        "\ta = np.ones(n, dtype = np.float64)\n",
        "\t\n",
        "\tstart = timer()\n",
        "\tfunc(a)\n",
        "\tprint(\"without GPU:\", timer()-start)\t\n",
        "\t\n",
        "\tstart = timer()\n",
        "\tfunc2(a)\n",
        "\tprint(\"with GPU:\", timer()-start)\n"
      ]
    },
    {
      "cell_type": "code",
      "execution_count": null,
      "metadata": {
        "id": "A2ntgTGOw1qt",
        "outputId": "96748ce1-d970-4a17-ce4c-69aac05aa039"
      },
      "outputs": [
        {
          "data": {
            "text/plain": [
              "'1.23.5'"
            ]
          },
          "execution_count": 30,
          "metadata": {},
          "output_type": "execute_result"
        }
      ],
      "source": [
        "np.__version__"
      ]
    },
    {
      "cell_type": "code",
      "execution_count": null,
      "metadata": {
        "id": "tlQTobrZw1qt",
        "outputId": "d96c6544-26d3-4b41-ea00-4aec7036b0a2"
      },
      "outputs": [
        {
          "name": "stdout",
          "output_type": "stream",
          "text": [
            "[name: \"/device:CPU:0\"\n",
            "device_type: \"CPU\"\n",
            "memory_limit: 268435456\n",
            "locality {\n",
            "}\n",
            "incarnation: 10945436746252645081\n",
            "]\n"
          ]
        }
      ],
      "source": [
        "from tensorflow.python.client import device_lib\n",
        "print(device_lib.list_local_devices())"
      ]
    },
    {
      "cell_type": "code",
      "execution_count": null,
      "metadata": {
        "id": "bQ1itvUYw1qt",
        "outputId": "c517d699-17c8-4897-a2b0-85f5006930d4"
      },
      "outputs": [
        {
          "name": "stdout",
          "output_type": "stream",
          "text": [
            "Device mapping: no known devices.\n"
          ]
        }
      ],
      "source": [
        "sess = tf.compat.v1.Session(config=tf.compat.v1.ConfigProto(log_device_placement=True))"
      ]
    },
    {
      "cell_type": "code",
      "execution_count": null,
      "metadata": {
        "id": "uOs8YGKew1qt",
        "outputId": "cecbf9ea-8368-4831-9fb1-05d569273998"
      },
      "outputs": [
        {
          "name": "stdout",
          "output_type": "stream",
          "text": [
            "['/device:CPU:0']\n"
          ]
        }
      ],
      "source": [
        "from tensorflow.python.client import device_lib\n",
        "def get_available_devices():\n",
        "    local_device_protos = device_lib.list_local_devices()\n",
        "    return [x.name for x in local_device_protos]\n",
        "print(get_available_devices())\n",
        "#['/device:CPU:0','/device:GPU:0']"
      ]
    },
    {
      "cell_type": "markdown",
      "metadata": {
        "id": "wflU9nXwS48g"
      },
      "source": [
        "The charts shown above show the details of the portfolio allocation of all the episodes."
      ]
    },
    {
      "cell_type": "markdown",
      "metadata": {
        "id": "ZuvQuEakS48g"
      },
      "source": [
        "<a id='5'></a>\n",
        "## Testing the Data "
      ]
    },
    {
      "cell_type": "code",
      "execution_count": null,
      "metadata": {
        "id": "JYXnkKNkw1qt"
      },
      "outputs": [],
      "source": []
    },
    {
      "cell_type": "code",
      "execution_count": null,
      "metadata": {
        "colab": {
          "background_save": true
        },
        "id": "36ZAOQrYS48g",
        "outputId": "8451e4e5-4ad9-4915-caf2-f4a2294dc0cd"
      },
      "outputs": [
        {
          "name": "stdout",
          "output_type": "stream",
          "text": [
            "[0.09845934734774428, 0.09530390909237481, 0.09596520764921823, 0.10398936933609257, -0.10702996940380903, -0.10595838765752075, 0.10851965837713906, 0.09218999662460897, 0.09211380373310603, 0.10047035077838626]\n"
          ]
        }
      ],
      "source": [
        "agent.is_eval = True\n",
        "\n",
        "actions_equal, actions_rl = [], []\n",
        "result_equal, result_rl = [], []\n",
        "\n",
        "for t in range(window_size, len(env.test_data), rebalance_period):\n",
        "\n",
        "    date1 = t-rebalance_period\n",
        "    s_ = env.get_state(t, window_size)\n",
        "    action = agent.act(s_)\n",
        "\n",
        "    weighted_returns, reward = env.get_reward(action[0], date1, t)\n",
        "    weighted_returns_equal, reward_equal = env.get_reward(\n",
        "        np.ones(agent.portfolio_size) / agent.portfolio_size, date1, t)\n",
        "\n",
        "    result_equal.append(weighted_returns_equal.tolist())\n",
        "    actions_equal.append(np.ones(agent.portfolio_size) / agent.portfolio_size)\n",
        "    \n",
        "    result_rl.append(weighted_returns.tolist())\n",
        "    actions_rl.append(action[0])\n",
        "\n",
        "print(list(action[0]))"
      ]
    },
    {
      "cell_type": "code",
      "execution_count": null,
      "metadata": {
        "colab": {
          "background_save": true
        },
        "id": "iY1wqwgOS48g"
      },
      "outputs": [],
      "source": [
        "result_equal_vis = [item for sublist in result_equal for item in sublist]\n",
        "result_rl_vis = [item for sublist in result_rl for item in sublist]"
      ]
    },
    {
      "cell_type": "code",
      "execution_count": null,
      "metadata": {
        "id": "myVEthrZw1qu"
      },
      "outputs": [],
      "source": [
        "result_equal_vis2 = [item for sublist in result_equal for item in sublist]\n",
        "result_rl_vis2 = [item for sublist in result_rl for item in sublist]"
      ]
    },
    {
      "cell_type": "code",
      "execution_count": null,
      "metadata": {
        "colab": {
          "background_save": true
        },
        "id": "3T_g-CG3S48g",
        "outputId": "e625d7d9-67cd-4467-89d6-b293480a345a"
      },
      "outputs": [
        {
          "data": {
            "image/png": "[encoded data removed]",
            "text/plain": [
              "<Figure size 640x480 with 1 Axes>"
            ]
          },
          "metadata": {},
          "output_type": "display_data"
        }
      ],
      "source": [
        "plt.figure()\n",
        "plt.plot(np.array(result_equal_vis).cumsum(), label = 'Benchmark', color = 'grey',ls = '--')\n",
        "plt.plot(np.array(result_rl_vis).cumsum(), label = 'Deep RL portfolio', color = 'black',ls = '-')\n",
        "plt.show()"
      ]
    },
    {
      "cell_type": "code",
      "execution_count": null,
      "metadata": {
        "id": "rnPp4ZIcw1qu",
        "outputId": "310c123b-6c8d-4c27-e1a9-015b1d73f581"
      },
      "outputs": [
        {
          "data": {
            "image/png": "[encoded data removed]",
            "text/plain": [
              "<Figure size 640x480 with 1 Axes>"
            ]
          },
          "metadata": {},
          "output_type": "display_data"
        }
      ],
      "source": [
        "plt.figure()\n",
        "plt.plot(np.array(result_equal_vis2).cumsum(), label = 'Benchmark', color = 'grey',ls = '--')\n",
        "plt.plot(np.array(result_rl_vis2).cumsum(), label = 'Deep RL portfolio', color = 'black',ls = '-')\n",
        "plt.show()"
      ]
    },
    {
      "cell_type": "code",
      "execution_count": null,
      "metadata": {
        "colab": {
          "background_save": true
        },
        "id": "MvFy18K5S48h",
        "outputId": "1f8427d4-ce0d-4de0-f086-bb423b686cc8"
      },
      "outputs": [
        {
          "data": {
            "image/png": "[encoded data removed]",
            "text/plain": [
              "<Figure size 1200x1000 with 2 Axes>"
            ]
          },
          "metadata": {},
          "output_type": "display_data"
        },
        {
          "data": {
            "image/png": "[encoded data removed]",
            "text/plain": [
              "<Figure size 1200x1000 with 2 Axes>"
            ]
          },
          "metadata": {},
          "output_type": "display_data"
        }
      ],
      "source": [
        "#Plotting the data\n",
        "import matplotlib\n",
        "current_cmap = matplotlib.cm.get_cmap()\n",
        "current_cmap.set_bad(color='red')\n",
        "\n",
        "N = len(np.array([item for sublist in result_equal for item in sublist]).cumsum()) \n",
        "\n",
        "for i in range(0, len(actions_rl)):\n",
        "    current_range = np.arange(0, N)\n",
        "    current_ts = np.zeros(N)\n",
        "    current_ts2 = np.zeros(N)\n",
        "\n",
        "    ts_benchmark = np.array([item for sublist in result_equal[:i+1] for item in sublist]).cumsum()\n",
        "    ts_target = np.array([item for sublist in result_rl[:i+1] for item in sublist]).cumsum()\n",
        "\n",
        "    t = len(ts_benchmark)\n",
        "    current_ts[:t] = ts_benchmark\n",
        "    current_ts2[:t] = ts_target\n",
        "\n",
        "    current_ts[current_ts == 0] = ts_benchmark[-1]\n",
        "    current_ts2[current_ts2 == 0] = ts_target[-1]\n",
        "\n",
        "    plt.figure(figsize = (12, 10))\n",
        "\n",
        "    plt.subplot(2, 1, 1)\n",
        "    plt.bar(np.arange(N_ASSETS), actions_rl[i], color = 'grey')\n",
        "    plt.xticks(np.arange(N_ASSETS), env.data.columns, rotation='vertical')\n",
        "\n",
        "    plt.subplot(2, 1, 2)\n",
        "    plt.colormaps = current_cmap\n",
        "    plt.plot(current_range[:t], current_ts[:t], color = 'black', label = 'Benchmark')\n",
        "    plt.plot(current_range[:t], current_ts2[:t], color = 'red', label = 'Deep RL portfolio')\n",
        "    plt.plot(current_range[t:], current_ts[t:], ls = '--', lw = .1, color = 'black')\n",
        "    plt.autoscale(False)\n",
        "    plt.ylim([-1, 1])\n",
        "    plt.legend()"
      ]
    },
    {
      "cell_type": "code",
      "execution_count": null,
      "metadata": {
        "id": "pFRMctIWS48h"
      },
      "outputs": [],
      "source": [
        "import statsmodels.api as sm\n",
        "from statsmodels import regression\n",
        "def sharpe(R):\n",
        "    r = np.diff(R)\n",
        "    sr = r.mean()/r.std() * np.sqrt(252)\n",
        "    return sr\n",
        "\n",
        "def print_stats(result, benchmark):\n",
        "\n",
        "    sharpe_ratio = sharpe(np.array(result).cumsum())\n",
        "    returns = np.mean(np.array(result))\n",
        "    volatility = np.std(np.array(result))\n",
        "    X = benchmark\n",
        "    y = result\n",
        "    x = sm.add_constant(X)\n",
        "    model = regression.linear_model.OLS(y, x).fit()    \n",
        "    alpha = model.params[0]\n",
        "    beta = model.params[1]\n",
        "    \n",
        "    return np.round(np.array([returns, volatility, sharpe_ratio, alpha, beta]), 4).tolist()"
      ]
    },
    {
      "cell_type": "code",
      "execution_count": null,
      "metadata": {
        "colab": {
          "background_save": true
        },
        "id": "vkoSaqxmS48h",
        "outputId": "7fbee5fb-5f50-4052-842e-95e51b96bade"
      },
      "outputs": [
        {
          "name": "stdout",
          "output_type": "stream",
          "text": [
            "EQUAL [0.0004, 0.0093, 0.5142, -0.0, 1.0]\n",
            "RL AGENT [0.0011, 0.0061, 2.8555, 0.0009, 0.4798]\n"
          ]
        }
      ],
      "source": [
        "print('EQUAL', print_stats(result_equal_vis, result_equal_vis))\n",
        "print('RL AGENT', print_stats(result_rl_vis, result_equal_vis))"
      ]
    },
    {
      "cell_type": "code",
      "execution_count": null,
      "metadata": {
        "id": "_kLbbH2Vw1qu",
        "outputId": "ca05f498-d404-470e-bf8f-930be37dd097"
      },
      "outputs": [
        {
          "name": "stdout",
          "output_type": "stream",
          "text": [
            "EQUAL [0.0004, 0.0093, 0.5142, -0.0, 1.0]\n",
            "RL AGENT [0.0011, 0.0061, 2.8555, 0.0009, 0.4798]\n"
          ]
        }
      ],
      "source": [
        "print('EQUAL', print_stats(result_equal_vis2, result_equal_vis2))\n",
        "print('RL AGENT', print_stats(result_rl_vis2, result_equal_vis2))"
      ]
    },
    {
      "cell_type": "markdown",
      "metadata": {
        "id": "AGs4t0pzS48h"
      },
      "source": [
        "**RL** portfolio has a higher return, higher sharp, lower volatility, higher alpha and negative correlation with the benchmark. "
      ]
    },
    {
      "cell_type": "markdown",
      "metadata": {
        "id": "mK9V2FPGS48i"
      },
      "source": [
        "**Conclusion**\n",
        "\n",
        "The idea in this case study was to go beyond classical Markowitz efficient frontier and directly learn the policy of changing the weights dynamically in the continuously\n",
        "changing market. \n",
        "\n",
        "We set up a standardized working environ‐\n",
        "ment(“gym”) for cryptocurrencies to facilitate the training. The model starts to learn over a period of time, discovers the strategy\n",
        "and starts to exploit it. we used the testing set to evaluate the model and found an\n",
        "overall profit in the test set.\n",
        "\n",
        "Overall, the framework provided in this case study can enable financial practitioners\n",
        "to perform portfolio allocation and rebalancing with a very flexible and automated\n",
        "approach and can prove to be immensely useful, specifically for robo-advisors\n"
      ]
    }
  ],
  "metadata": {
    "_change_revision": 206,
    "_is_fork": false,
    "accelerator": "GPU",
    "colab": {
      "provenance": []
    },
    "gpuClass": "standard",
    "kernelspec": {
      "display_name": "Python 3 (ipykernel)",
      "language": "python",
      "name": "python3"
    },
    "language_info": {
      "codemirror_mode": {
        "name": "ipython",
        "version": 3
      },
      "file_extension": ".py",
      "mimetype": "text/x-python",
      "name": "python",
      "nbconvert_exporter": "python",
      "pygments_lexer": "ipython3",
      "version": "3.9.16"
    }
  },
  "nbformat": 4,
  "nbformat_minor": 0
}